{
 "cells": [
  {
   "metadata": {},
   "cell_type": "markdown",
   "source": "numpy와 닮은 파이토치",
   "id": "5e089ed0f134a575"
  },
  {
   "metadata": {
    "ExecuteTime": {
     "end_time": "2025-02-17T03:09:32.474010Z",
     "start_time": "2025-02-17T03:09:32.465877Z"
    }
   },
   "cell_type": "code",
   "source": [
    "import torch\n",
    "a = torch.tensor([1, 2, 3, 4])\n",
    "print(a)\n",
    "print(type(a))\n",
    "print(a.dtype) # int64\n",
    "print(a.shape)\n",
    "b = torch.tensor([1, 2, 3.1, 4])\n",
    "print(b.dtype) # float32"
   ],
   "id": "4124df6fe73b2756",
   "outputs": [
    {
     "name": "stdout",
     "output_type": "stream",
     "text": [
      "tensor([1, 2, 3, 4])\n",
      "<class 'torch.Tensor'>\n",
      "torch.int64\n",
      "torch.Size([4])\n",
      "torch.float32\n"
     ]
    }
   ],
   "execution_count": 8
  },
  {
   "metadata": {
    "ExecuteTime": {
     "end_time": "2025-02-17T03:13:55.720659Z",
     "start_time": "2025-02-17T03:13:55.711952Z"
    }
   },
   "cell_type": "code",
   "source": [
    "A = torch.tensor([[1, 2],\n",
    "                  [3, 4]])\n",
    "'''B = torch.tensor([[1, 2],\n",
    "                  [3, 4, 5]]) # 에러 발생\n",
    "                  '''\n",
    "print(A)\n",
    "print(A.shape)\n",
    "print(A.size())\n",
    "print(A.ndim)"
   ],
   "id": "cad42579c3f6d8bd",
   "outputs": [
    {
     "name": "stdout",
     "output_type": "stream",
     "text": [
      "tensor([[1, 2],\n",
      "        [3, 4]])\n",
      "torch.Size([2, 2])\n",
      "torch.Size([2, 2])\n",
      "2\n"
     ]
    }
   ],
   "execution_count": 14
  },
  {
   "metadata": {
    "ExecuteTime": {
     "end_time": "2025-02-17T03:15:12.002704Z",
     "start_time": "2025-02-17T03:15:11.999809Z"
    }
   },
   "cell_type": "code",
   "source": [
    "A = torch.tensor([[1, 2, 3],\n",
    "                  [4, 5, 6]])\n",
    "print(A)\n",
    "print(A.shape)\n",
    "print(A.ndim)\n",
    "print(A.numel())"
   ],
   "id": "9d70ad504d4845b5",
   "outputs": [
    {
     "name": "stdout",
     "output_type": "stream",
     "text": [
      "tensor([[1, 2, 3],\n",
      "        [4, 5, 6]])\n",
      "torch.Size([2, 3])\n",
      "2\n",
      "6\n"
     ]
    }
   ],
   "execution_count": 15
  },
  {
   "metadata": {
    "ExecuteTime": {
     "end_time": "2025-02-17T03:19:14.273983Z",
     "start_time": "2025-02-17T03:19:14.263011Z"
    }
   },
   "cell_type": "code",
   "source": [
    "print(torch.zeros(5))\n",
    "print(torch.zeros_like(A))\n",
    "print(torch.ones(5))\n",
    "print(torch.ones_like(A))\n",
    "print(torch.arange(3, 10, 2)) # 간격이 2, end 미만\n",
    "print(torch.reshape(A, (3, 2)))\n",
    "print(torch.linspace(0, 1, 10)) # 개수가 10, 포함"
   ],
   "id": "84c3c1afe5ea867a",
   "outputs": [
    {
     "name": "stdout",
     "output_type": "stream",
     "text": [
      "tensor([0., 0., 0., 0., 0.])\n",
      "tensor([[0, 0, 0],\n",
      "        [0, 0, 0]])\n",
      "tensor([1., 1., 1., 1., 1.])\n",
      "tensor([[1, 1, 1],\n",
      "        [1, 1, 1]])\n",
      "tensor([3, 5, 7, 9])\n",
      "tensor([[1, 2],\n",
      "        [3, 4],\n",
      "        [5, 6]])\n",
      "tensor([0.0000, 0.1111, 0.2222, 0.3333, 0.4444, 0.5556, 0.6667, 0.7778, 0.8889,\n",
      "        1.0000])\n"
     ]
    }
   ],
   "execution_count": 26
  },
  {
   "metadata": {
    "ExecuteTime": {
     "end_time": "2025-02-17T03:24:18.427406Z",
     "start_time": "2025-02-17T03:24:18.417522Z"
    }
   },
   "cell_type": "code",
   "source": [
    "A = torch.tensor([[1, 2, 3],\n",
    "                  [4, 5, 6]])\n",
    "B = torch.tensor([[7, 8, 9],\n",
    "                 [10, 11, 12]])\n",
    "print(A + B)\n",
    "print(A - B)\n",
    "print(A * B)\n",
    "print(A / B)\n",
    "print(B // A)\n",
    "print(A @ B.t())\n",
    "print(A.mul_(B))\n",
    "print(A.matmul(B.t()))\n",
    "print(A)\n",
    "print(B)\n",
    "print(B.pow(2))\n",
    "print(B.pow_(2))\n",
    "print(B)\n"
   ],
   "id": "3df2e616eba0c979",
   "outputs": [
    {
     "name": "stdout",
     "output_type": "stream",
     "text": [
      "tensor([[ 8, 10, 12],\n",
      "        [14, 16, 18]])\n",
      "tensor([[-6, -6, -6],\n",
      "        [-6, -6, -6]])\n",
      "tensor([[ 7, 16, 27],\n",
      "        [40, 55, 72]])\n",
      "tensor([[0.1429, 0.2500, 0.3333],\n",
      "        [0.4000, 0.4545, 0.5000]])\n",
      "tensor([[7, 4, 3],\n",
      "        [2, 2, 2]])\n",
      "tensor([[ 50,  68],\n",
      "        [122, 167]])\n",
      "tensor([[ 7, 16, 27],\n",
      "        [40, 55, 72]])\n",
      "tensor([[ 420,  570],\n",
      "        [1368, 1869]])\n",
      "tensor([[ 7, 16, 27],\n",
      "        [40, 55, 72]])\n",
      "tensor([[ 7,  8,  9],\n",
      "        [10, 11, 12]])\n",
      "tensor([[ 49,  64,  81],\n",
      "        [100, 121, 144]])\n",
      "tensor([[ 49,  64,  81],\n",
      "        [100, 121, 144]])\n",
      "tensor([[ 49,  64,  81],\n",
      "        [100, 121, 144]])\n"
     ]
    }
   ],
   "execution_count": 38
  },
  {
   "metadata": {
    "ExecuteTime": {
     "end_time": "2025-02-17T03:27:19.131486Z",
     "start_time": "2025-02-17T03:27:19.123085Z"
    }
   },
   "cell_type": "code",
   "source": [
    "a = torch.arange(1, 10, 1)\n",
    "print(a)\n",
    "print(a[0])\n",
    "print(a[1:8])\n",
    "b = torch.reshape(a, (3, 3))\n",
    "print(b)\n",
    "print(b[0])\n",
    "print(b[0, 2])\n",
    "print(b[0][2])"
   ],
   "id": "359f81304f90f0a9",
   "outputs": [
    {
     "name": "stdout",
     "output_type": "stream",
     "text": [
      "tensor([1, 2, 3, 4, 5, 6, 7, 8, 9])\n",
      "tensor(1)\n",
      "tensor([2, 3, 4, 5, 6, 7, 8])\n",
      "tensor([[1, 2, 3],\n",
      "        [4, 5, 6],\n",
      "        [7, 8, 9]])\n",
      "tensor([1, 2, 3])\n",
      "tensor(3)\n",
      "tensor(3)\n"
     ]
    }
   ],
   "execution_count": 45
  }
 ],
 "metadata": {
  "kernelspec": {
   "display_name": "Python 3",
   "language": "python",
   "name": "python3"
  },
  "language_info": {
   "codemirror_mode": {
    "name": "ipython",
    "version": 2
   },
   "file_extension": ".py",
   "mimetype": "text/x-python",
   "name": "python",
   "nbconvert_exporter": "python",
   "pygments_lexer": "ipython2",
   "version": "2.7.6"
  }
 },
 "nbformat": 4,
 "nbformat_minor": 5
}
